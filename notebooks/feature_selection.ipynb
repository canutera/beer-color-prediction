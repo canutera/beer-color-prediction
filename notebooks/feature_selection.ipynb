{
 "cells": [
  {
   "cell_type": "markdown",
   "metadata": {},
   "source": [
    "### Load selected rows"
   ]
  },
  {
   "cell_type": "code",
   "execution_count": null,
   "metadata": {},
   "outputs": [],
   "source": [
    "import pandas as pd\n",
    "import numpy as np\n",
    "df = pd.read_csv('../data/selected/selected.csv')\n",
    "df.describe()"
   ]
  },
  {
   "cell_type": "code",
   "execution_count": null,
   "metadata": {},
   "outputs": [],
   "source": [
    "import random\n",
    "from typing import Literal\n",
    "from sklearn.model_selection import train_test_split\n",
    "from sklearn.dummy import DummyRegressor\n",
    "from sklearn.metrics import r2_score, mean_absolute_error as mae, mean_squared_error as mse\n",
    "def baseline_dummy_metrics(df:pd.DataFrame, samples:int, strategy:Literal['median','mean']):\n",
    "    '''estimate baseline values for dataset using sklearn dummy regressor\n",
    "    samples is the number of fits to be done\n",
    "\n",
    "    returns\n",
    "    -------\n",
    "    df with r2_score, mean absolute error, mean squared error and std deviations respectively\n",
    "    average for every fit \n",
    "    '''\n",
    "    values = pd.DataFrame()\n",
    "    for i in range(samples):\n",
    "        y = df['color']\n",
    "        X = df.drop('color', axis=1)\n",
    "        X_train, X_test, y_train, y_test = train_test_split(X, y, test_size=0.33, random_state=random.randint(1,1000))\n",
    "\n",
    "        dummy_regr = DummyRegressor(strategy=strategy)\n",
    "        dummy_regr.fit(X_train, y_train)\n",
    "        \n",
    "        y_pred = dummy_regr.predict(X_test)\n",
    "        values = pd.concat([values, pd.DataFrame.from_records({'r2_score':[r2_score(y_test,y_pred)], 'mae':[mae(y_test,y_pred)], 'mse':[mse(y_test,y_pred)]})], ignore_index=True)\n",
    "    _dict = {}\n",
    "    for col in values.columns:\n",
    "        _dict[col] = values[col].mean()\n",
    "        _dict[f'{col}_std'] = values[col].std()\n",
    "    return pd.DataFrame.from_records([_dict])\n",
    "\n",
    "baseline = baseline_dummy_metrics(df, 10000, 'median')\n",
    "print('Baseline values for metrics')\n",
    "baseline"
   ]
  },
  {
   "cell_type": "markdown",
   "metadata": {},
   "source": [
    "### Split data "
   ]
  },
  {
   "cell_type": "code",
   "execution_count": null,
   "metadata": {},
   "outputs": [],
   "source": [
    "\n",
    "X = df.drop('color', axis=1)\n",
    "y = df['color']"
   ]
  },
  {
   "cell_type": "markdown",
   "metadata": {},
   "source": [
    "### Selecting columns by correlation with target\n",
    "\n"
   ]
  },
  {
   "cell_type": "code",
   "execution_count": null,
   "metadata": {},
   "outputs": [],
   "source": [
    "def correlation_contest(df:pd.DataFrame, agg:Literal['sum', 'mean'], target:str='color')->pd.DataFrame:\n",
    "    methods = ['pearson', 'spearman', 'kendall']\n",
    "    corr = pd.concat([df.corr(method)[target].abs().to_frame(method) for method in methods], axis=1)\n",
    "    corr = (corr.assign(**{agg:getattr(corr, agg)(axis=1)})\n",
    "                .reset_index(names='columns')\n",
    "                .sort_values(agg, ascending=False)\n",
    "                .reset_index(drop=True)\n",
    "                )\n",
    "    return corr.query(f'columns != \"{target}\"').style.background_gradient(cmap='Greens', vmin=0, vmax=1, subset=methods + [agg])\n",
    "\n",
    "correlation_contest(df, 'sum')"
   ]
  },
  {
   "cell_type": "code",
   "execution_count": null,
   "metadata": {},
   "outputs": [],
   "source": [
    "from sklearn.model_selection import TimeSeriesSplit\n",
    "from sklearn.tree import DecisionTreeRegressor\n",
    "from sklearn.ensemble import RandomForestRegressor\n",
    "from sklearn.model_selection import cross_val_score\n",
    "from sklearn.metrics import make_scorer\n",
    "\n",
    "regressor = DecisionTreeRegressor(random_state=10)\n",
    "tss = TimeSeriesSplit(n_splits = 2,)\n",
    "\n",
    "scorers = dict()\n",
    "scorers['r2_score'] = make_scorer(r2_score, greater_is_better=True)\n",
    "scorers['mae'] = make_scorer(mae, greater_is_better=False)\n",
    "scorers['mse'] = make_scorer(r2_score, greater_is_better=False)\n",
    "\n",
    "for s in scorers:\n",
    "    cvs = cross_val_score(regressor, X, y, cv=tss, scoring=scorers[s])\n",
    "    print(s, 'Mean:', cvs.mean())\n",
    "    print(cvs, )"
   ]
  }
 ],
 "metadata": {
  "kernelspec": {
   "display_name": "Python 3",
   "language": "python",
   "name": "python3"
  },
  "language_info": {
   "codemirror_mode": {
    "name": "ipython",
    "version": 3
   },
   "file_extension": ".py",
   "mimetype": "text/x-python",
   "name": "python",
   "nbconvert_exporter": "python",
   "pygments_lexer": "ipython3",
   "version": "3.11.5"
  },
  "orig_nbformat": 4
 },
 "nbformat": 4,
 "nbformat_minor": 2
}
