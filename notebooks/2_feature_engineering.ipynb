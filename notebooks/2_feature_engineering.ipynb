{
 "cells": [
  {
   "cell_type": "markdown",
   "metadata": {},
   "source": [
    "### Load selected rows"
   ]
  },
  {
   "cell_type": "code",
   "execution_count": null,
   "metadata": {},
   "outputs": [],
   "source": [
    "import pandas as pd\n",
    "import numpy as np\n",
    "import sys\n",
    "sys.path.append('..')\n",
    "df = pd.read_csv('../data/3_selected/selected.csv')\n",
    "df.describe()\n"
   ]
  },
  {
   "cell_type": "markdown",
   "metadata": {},
   "source": [
    "### Load features from dropped columns (product, date_time)\n",
    "- day of week has moderate positive correlation (pearson)\n",
    "- day of month has high correlation with 1st malt color (pearson, spearman)\n",
    "- last_was_hnk and shift have some correlation to feature (spearman)\n"
   ]
  },
  {
   "cell_type": "code",
   "execution_count": null,
   "metadata": {},
   "outputs": [],
   "source": [
    "from src.load import dropped_columns_features\n",
    "from src.corr import plot_correlation_bars\n",
    "import seaborn as sns\n",
    "import matplotlib.pyplot as plt\n",
    "\n",
    "\n",
    "# df = df.merge(dropped_columns_features(), on='job_id').drop('job_id',axis=1)\n",
    "\n",
    "method = ['pearson', 'spearman']\n",
    "for m in method: \n",
    "    plt.figure(figsize = (16,8))\n",
    "    cols = ['color'] + [i for i in df.columns if i != 'color']\n",
    "    corr = df[cols].corr(m)\n",
    "    ax = sns.heatmap(corr, vmin=-1, vmax=1, center=0, annot=corr.values, fmt='.2f', cmap='bwr')\n",
    "    ax.set(title=f'{m.title()} Correlation Heatmap')\n",
    "    plot_correlation_bars(df, 'color', m)\n"
   ]
  },
  {
   "cell_type": "markdown",
   "metadata": {},
   "source": [
    "### New features to check variable interaction\n",
    "logging, squaring and taking square root of variables did not have any improments \n",
    "\n",
    "Proceeed to combinate columns using functions, and then picked some that had the best variations and considering with they were already used in other picked combination or not\n"
   ]
  },
  {
   "cell_type": "code",
   "execution_count": null,
   "metadata": {},
   "outputs": [],
   "source": [
    "from typing import Callable\n",
    "from itertools import combinations\n",
    "import math\n",
    "\n",
    "def multiply(a, b): return a*b\n",
    "\n",
    "def divide(a, b): return a/(b+1) \n",
    "    \n",
    "def foo(a, b): return (a*b)/(a+b)\n",
    "\n",
    "def square(x): return x*x\n",
    "\n",
    "\n",
    "def create_feature(df:pd.DataFrame, funcs:list[Callable]):\n",
    "    _df = df.copy() \n",
    "    def asd(f, x):\n",
    "        try: return f(x)\n",
    "        except: return 0\n",
    "    for c in _df.columns:\n",
    "        for f in funcs:\n",
    "            \n",
    "            _df = _df.assign(**{f'{f.__name__}_{c}': df[c].apply(lambda x:  asd(f,x))})\n",
    "    return _df\n",
    "\n",
    "def create_feature2(df:pd.DataFrame, funcs:list[Callable]):\n",
    "    _df = df.copy() \n",
    "    _combinations = list(combinations([i for i in df.columns if i != 'color'], 2))\n",
    "    for c in _combinations:\n",
    "        for f in funcs:\n",
    "            _df = _df.assign(**{f'{f.__name__}__{c[0]}__{c[1]}': df.apply(lambda row: f(row[c[0]], row[c[1]]), axis=1)})\n",
    "    return _df\n",
    "\n",
    "a = create_feature(df, funcs=[math.log, square, math.sqrt])\n",
    "plot_correlation_bars(a[[i for i in a.columns if '_color' not in i]], 'color', m)\n"
   ]
  },
  {
   "cell_type": "markdown",
   "metadata": {},
   "source": [
    "### try to combine features to see if correlations improve\n",
    "roast amount combination were filtered, it was the best correlation so no need to increase complexity in this one"
   ]
  },
  {
   "cell_type": "code",
   "execution_count": null,
   "metadata": {},
   "outputs": [],
   "source": [
    "from IPython.display import clear_output\n",
    "b = create_feature2(df, funcs=[multiply, divide, foo])\n",
    "clear_output()"
   ]
  },
  {
   "cell_type": "code",
   "execution_count": null,
   "metadata": {},
   "outputs": [],
   "source": [
    "\n",
    "\n",
    "def new_features_corr(df:pd.DataFrame, method:str):\n",
    "  return (df.corr(method)['color'].to_frame(method)\n",
    "            .abs()\n",
    "            .sort_values(method, ascending=False)\n",
    "            .reset_index(names='columns')\n",
    "            )\n",
    "spearman_nf = new_features_corr(b, 'spearman')\n",
    "pearson_nf = new_features_corr(b, 'pearson')\n",
    "nf_corr = spearman_nf.merge(pearson_nf, on ='columns')\n",
    "original_corr = nf_corr.iloc[:, :3]\n",
    "nf_corr = (nf_corr.query('columns.str.contains(\"__\")')\n",
    "                  .assign(function=nf_corr['columns'].str.split(\"__\").str[0])\n",
    "                  .assign(first_feature=nf_corr['columns'].str.split(\"__\").str[1])\n",
    "                  .assign(second_feature=nf_corr['columns'].str.split(\"__\").str[2]))\n",
    "nf_corr = (nf_corr.merge(original_corr, right_on='columns', left_on='first_feature', suffixes=('', '_first'))\n",
    "                  .merge(original_corr, right_on='columns', left_on='second_feature', suffixes=('', '_second'))\n",
    "           )\n",
    "\n",
    "nf_corr = (nf_corr.assign(first_best=nf_corr.apply(lambda row: row['spearman_first'] if row['spearman_first']>row['pearson_first'] else row['pearson_first'], axis=1))\n",
    "                  .assign(second_best=nf_corr.apply(lambda row: row['spearman_second'] if row['spearman_second']>row['pearson_second'] else row['pearson_second'], axis=1)))\n",
    "\n",
    "nf_corr = (nf_corr.assign(previous_best=nf_corr.apply(lambda row: row['first_best'] if row['first_best']>row['second_best'] else row['second_best'], axis=1))\n",
    "                  .assign(best=nf_corr.apply(lambda row: row['spearman'] if row['spearman']>row['pearson'] else row['pearson'], axis=1))\n",
    "                  .rename({i: f'new_{i}' for i in ['spearman', 'pearson']}, axis=1)\n",
    "                  )\n",
    "\n",
    "nf_corr = nf_corr.assign(delta=nf_corr.apply(lambda row: row['best'] - row['previous_best'], axis=1)).sort_values('delta', ascending=False)\n",
    "\n",
    "\n",
    "(nf_corr[['columns', 'best', 'previous_best', 'delta','function', 'first_feature','first_best', 'second_feature', 'second_best']]\n",
    "\n",
    " .query('~columns.str.contains(\"roast_amount\")')\n",
    " .head(30)\n",
    " .reset_index(drop=True)\n",
    "\n",
    " )\n",
    "keep = ['divide__total_cold_wort__woc_time', 'multiply__1st_malt_amount_kg__extract', 'multiply__2nd_malt_amount_kg__ph', 'divide__woc_time__whp_transfer_time',\n",
    "        'multiply__whp_rest_time__2nd_malt_color', 'multiply__mt_time__wk_time']\n",
    "\n",
    "# b is selected df + new engineered features \n",
    "b = b[list(df.columns) + keep]\n",
    "b.to_csv('../data/4_engineered/engineered_features.csv', index=False)"
   ]
  }
 ],
 "metadata": {
  "kernelspec": {
   "display_name": "Python 3",
   "language": "python",
   "name": "python3"
  },
  "language_info": {
   "codemirror_mode": {
    "name": "ipython",
    "version": 3
   },
   "file_extension": ".py",
   "mimetype": "text/x-python",
   "name": "python",
   "nbconvert_exporter": "python",
   "pygments_lexer": "ipython3",
   "version": "3.11.5"
  },
  "orig_nbformat": 4
 },
 "nbformat": 4,
 "nbformat_minor": 2
}
