{
 "cells": [
  {
   "cell_type": "markdown",
   "metadata": {},
   "source": [
    "### Load"
   ]
  },
  {
   "cell_type": "code",
   "execution_count": 2,
   "metadata": {},
   "outputs": [],
   "source": [
    "import pickle\n",
    "import pandas as pd\n",
    "with open('../models/lasso.pkl', 'rb') as f:\n",
    "    lasso = pickle.load(f)\n",
    "with open('../models/scalers/lasso_scaler.pkl', 'rb') as f:\n",
    "    dt = pickle.load(f)\n",
    "\n",
    "with open('../models/dt.pkl', 'rb') as f:\n",
    "    dt = pickle.load(f)\n",
    "with open('../models/scalers/dt_scaler.pkl', 'rb') as f:\n",
    "    dt = pickle.load(f)\n",
    "\n",
    "with open('../models/gbt.pkl', 'rb') as f:\n",
    "    gbt = pickle.load(f)\n",
    "with open('../models/scalers/gbt_scaler.pkl', 'rb') as f:\n",
    "    dt = pickle.load(f)\n",
    "\n",
    "lasso_df = pd.read_csv('../data/7_model_specific_data_sets/lasso_scaled.csv')\n",
    "dt_df = pd.read_csv('../data/7_model_specific_data_sets/dt_scaled.csv')\n",
    "gbt_df = pd.read_csv('../data/7_model_specific_data_sets/gbt_scaled.csv')\n"
   ]
  },
  {
   "cell_type": "code",
   "execution_count": null,
   "metadata": {},
   "outputs": [],
   "source": [
    "import matplotlib.pyplot as plt\n",
    "import numpy as np\n",
    "from sklearn.metrics import accuracy_score,mean_squared_error, r2_score\n",
    "def two_d_compare(X_test,y_test,y_pred,model_name):\n",
    "    area = (12 * np.random.rand(40))**2 \n",
    "    plt.subplots(ncols=2, figsize=(10,4))\n",
    "    plt.suptitle('Actual vs Predicted data : ' +model_name + '. Variance score: %.2f' % r2_score(y_test, y_pred))\n",
    "\n",
    "    plt.subplot(121)\n",
    "    plt.scatter(X_test, y_test, alpha=0.8, color='#8CCB9B')\n",
    "    plt.title('Actual')\n",
    "\n",
    "    plt.subplot(122)\n",
    "    plt.scatter(X_test, y_pred,alpha=0.8, color='#E5E88B')\n",
    "    plt.title('Predicted')\n",
    "\n",
    "    plt.show()\n",
    "\n",
    "def two_vs_three(x_test,y_test,y_pred,z=None, isLinear = False) : \n",
    "    \n",
    "    area = 60\n",
    "    \n",
    "\n",
    "    fig = plt.figure(figsize=(12,6))\n",
    "    fig.suptitle('2D and 3D view of sales price data')\n",
    "\n",
    "    # First subplot\n",
    "    ax = fig.add_subplot(1, 2,1)\n",
    "    ax.scatter(x_test, y_test, alpha=0.5,color='blue', s= area)\n",
    "    ax.plot(x_test, y_pred, alpha=0.9,color='red', linewidth=2)\n",
    "    ax.set_xlabel('YEAR BUILT')\n",
    "    ax.set_ylabel('SELLING PRICE')\n",
    "    \n",
    "    plt.title('YEARBUILT vs SALEPRICE')\n",
    "    \n",
    "    if not isLinear : \n",
    "    # Second subplot\n",
    "        ax = fig.add_subplot(1,2,2, projection='3d')\n",
    "\n",
    "        ax.scatter(z, x_test, y_test, color='blue', marker='o')\n",
    "        ax.plot(z, x_test, y_pred, alpha=0.9,color='red', linewidth=2)\n",
    "        ax.set_ylabel('YEAR BUILT')\n",
    "        ax.set_zlabel('SELLING PRICE')\n",
    "        ax.set_xlabel('LOT AREA')\n",
    "\n",
    "    plt.title('LOT AREA vs YEAR BUILT vs SELLING PRICE')\n",
    "\n",
    "    plt.show()"
   ]
  }
 ],
 "metadata": {
  "kernelspec": {
   "display_name": "Python 3",
   "language": "python",
   "name": "python3"
  },
  "language_info": {
   "codemirror_mode": {
    "name": "ipython",
    "version": 3
   },
   "file_extension": ".py",
   "mimetype": "text/x-python",
   "name": "python",
   "nbconvert_exporter": "python",
   "pygments_lexer": "ipython3",
   "version": "3.10.11"
  },
  "orig_nbformat": 4
 },
 "nbformat": 4,
 "nbformat_minor": 2
}
