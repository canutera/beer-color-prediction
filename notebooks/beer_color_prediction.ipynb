{
 "cells": [
  {
   "cell_type": "markdown",
   "metadata": {},
   "source": [
    "### Load dataset and rename columns\n",
    "> Note: **Only AMST** are contained in df. HNK products where filtered."
   ]
  },
  {
   "cell_type": "code",
   "execution_count": 86,
   "metadata": {},
   "outputs": [],
   "source": [
    "import pandas as pd\n",
    "import numpy as np\n",
    "from re import sub\n",
    "\n",
    "def column_name_to_snake_case(s):\n",
    "    s = sub(r\"[\\/( \\- ) ]\", '_', s)\n",
    "    s = sub(r\"(___)|(__)\", '_', s).lower()\n",
    "    return s if s[-1] != '_' else s[:-1]\n",
    "\n",
    "df = pd.read_csv(r'..\\data\\raw\\Heineken - Data Science Use Case.csv', parse_dates=['Date/Time'])\n",
    "df = (df.drop(columns=df.columns[0])\n",
    "        .rename(columns={col:column_name_to_snake_case(col) for col in df.columns[1:]})\n",
    "        .query('product == \"AMST\"')\n",
    "     )"
   ]
  },
  {
   "cell_type": "markdown",
   "metadata": {},
   "source": [
    "### Rows with null values"
   ]
  },
  {
   "cell_type": "code",
   "execution_count": 87,
   "metadata": {},
   "outputs": [],
   "source": [
    "nulls = df[pd.isnull(df).any(axis=1)]"
   ]
  },
  {
   "cell_type": "markdown",
   "metadata": {},
   "source": [
    "#### Analyzing color null values\n",
    "All color null values have no other null value besides the target column.\n",
    "> They will be used as a test dataset"
   ]
  },
  {
   "cell_type": "code",
   "execution_count": 93,
   "metadata": {},
   "outputs": [],
   "source": [
    "target = nulls.query('color.isnull()')\n",
    "target.drop('color', axis=1).isnull().sum(axis=0)\n",
    "\n",
    "# saving to parse dtypes faster later \n",
    "dtypes = {col:target[col].dtype for col in target.columns}\n",
    "\n",
    "target.to_csv(r'..\\data\\test\\test_data.csv', index=False)\n",
    "\n"
   ]
  },
  {
   "cell_type": "code",
   "execution_count": null,
   "metadata": {},
   "outputs": [],
   "source": []
  }
 ],
 "metadata": {
  "kernelspec": {
   "display_name": "Python 3",
   "language": "python",
   "name": "python3"
  },
  "language_info": {
   "codemirror_mode": {
    "name": "ipython",
    "version": 3
   },
   "file_extension": ".py",
   "mimetype": "text/x-python",
   "name": "python",
   "nbconvert_exporter": "python",
   "pygments_lexer": "ipython3",
   "version": "3.11.5"
  },
  "orig_nbformat": 4
 },
 "nbformat": 4,
 "nbformat_minor": 2
}
